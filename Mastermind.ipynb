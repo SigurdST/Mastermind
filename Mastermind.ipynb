{
 "cells": [
  {
   "cell_type": "markdown",
   "metadata": {},
   "source": [
    "# PROJET - MASTERMIND"
   ]
  },
  {
   "cell_type": "markdown",
   "metadata": {},
   "source": [
    "## Partie 1\n"
   ]
  },
  {
   "cell_type": "markdown",
   "metadata": {},
   "source": [
    "### 1."
   ]
  },
  {
   "cell_type": "code",
   "execution_count": 1,
   "metadata": {},
   "outputs": [],
   "source": [
    "from random import *\n",
    "n=[1,2,3,4,5,6,7,8]\n",
    "def code(n):\n",
    "    c=sample(n*4,4)\n",
    "    return c"
   ]
  },
  {
   "cell_type": "markdown",
   "metadata": {},
   "source": [
    "### 2."
   ]
  },
  {
   "cell_type": "code",
   "execution_count": 2,
   "metadata": {},
   "outputs": [
    {
     "name": "stdout",
     "output_type": "stream",
     "text": [
      "Saisissez une proposition : 1234\n"
     ]
    },
    {
     "data": {
      "text/plain": [
       "[1, 2, 3, 4]"
      ]
     },
     "execution_count": 2,
     "metadata": {},
     "output_type": "execute_result"
    }
   ],
   "source": [
    "def prop():\n",
    "    a=True\n",
    "    pl=input(\"Saisissez une proposition : \") \n",
    "    while a==True:\n",
    "        a=False  \n",
    "        p=[]\n",
    "        if len(pl)!=4:\n",
    "            pl=input(\"Veuillez saisir 4 chiffres : \")\n",
    "            a=True\n",
    "        else:\n",
    "            for i in pl:\n",
    "                  p.append(int(i))\n",
    "            for i in p:\n",
    "                if i<1 or i>8:\n",
    "                    pl=input(\"Veuillez saisir des chiffres compris entre 1 et 8 : \")\n",
    "                    a=True\n",
    "                    break\n",
    "    return p\n",
    "prop()"
   ]
  },
  {
   "cell_type": "markdown",
   "metadata": {},
   "source": [
    "### 3."
   ]
  },
  {
   "cell_type": "code",
   "execution_count": 3,
   "metadata": {},
   "outputs": [],
   "source": [
    "def bienplace(c,p):\n",
    "    bp=0\n",
    "    for i in range(4):\n",
    "        if c[i]==p[i]:\n",
    "            bp+=1\n",
    "    return bp"
   ]
  },
  {
   "cell_type": "markdown",
   "metadata": {},
   "source": [
    "### 4."
   ]
  },
  {
   "cell_type": "code",
   "execution_count": 4,
   "metadata": {},
   "outputs": [],
   "source": [
    "def malplace(c,p):\n",
    "    mp=0\n",
    "    for i in range(4):\n",
    "        if p[i] in c and p[i]!=c[i]:\n",
    "            mp+=1\n",
    "            for j in range(4):\n",
    "                if p[i]==p[j] and p[j]==c[j] and p.count(p[i])>c.count(p[i]):\n",
    "                    mp-=1\n",
    "                    break\n",
    "    return mp"
   ]
  },
  {
   "cell_type": "markdown",
   "metadata": {},
   "source": [
    "### 5."
   ]
  },
  {
   "cell_type": "code",
   "execution_count": 5,
   "metadata": {},
   "outputs": [
    {
     "name": "stdout",
     "output_type": "stream",
     "text": [
      "Saisissez une proposition : 1234\n",
      "[1, 2, 3, 4]\n",
      "Vous avez 0 bien placé(s) et 2 mal placé(s)\n",
      "\n",
      "Saisissez une proposition : 5678\n",
      "[5, 6, 7, 8]\n",
      "Vous avez 1 bien placé(s) et 1 mal placé(s)\n",
      "\n",
      "Saisissez une proposition : 2375\n",
      "[2, 3, 7, 5]\n",
      "Vous avez 0 bien placé(s) et 1 mal placé(s)\n",
      "\n",
      "Saisissez une proposition : 2468\n",
      "[2, 4, 6, 8]\n",
      "Vous avez 0 bien placé(s) et 3 mal placé(s)\n",
      "\n",
      "Saisissez une proposition : 4681\n",
      "[4, 6, 8, 1]\n",
      "Vous avez 1 bien placé(s) et 2 mal placé(s)\n",
      "\n",
      "Saisissez une proposition : 8463\n",
      "[8, 4, 6, 3]\n",
      "Vous avez 2 bien placé(s) et 2 mal placé(s)\n",
      "\n",
      "Saisissez une proposition : 8643\n",
      "[8, 6, 4, 3]\n",
      "Vous avez 4 bien placé(s) et 0 mal placé(s)\n",
      "\n",
      "Bravo le code à trouver était bien [8, 6, 4, 3], vous avez réussi en 7 tours\n"
     ]
    }
   ],
   "source": [
    "bp=0\n",
    "c=code(n)\n",
    "t=0\n",
    "while bp<4:\n",
    "    p=prop()\n",
    "    print(p)\n",
    "    bp=bienplace(c,p)\n",
    "    mp=malplace(c,p)\n",
    "    print(\"Vous avez \"+str(bp)+\" bien placé(s) et \"+str(mp)+\" mal placé(s)\")\n",
    "    print(\"\")\n",
    "    t+=1\n",
    "print(\"Bravo le code à trouver était bien \"+str(c)+\", vous avez réussi en \"+str(t)+\" tours\")"
   ]
  },
  {
   "cell_type": "markdown",
   "metadata": {},
   "source": [
    "## Partie 2"
   ]
  },
  {
   "cell_type": "markdown",
   "metadata": {},
   "source": [
    "### 1. 2. 3. 4."
   ]
  },
  {
   "cell_type": "code",
   "execution_count": 4,
   "metadata": {},
   "outputs": [
    {
     "name": "stdout",
     "output_type": "stream",
     "text": [
      "Saisissez une proposition : 4321\n",
      "[4, 3, 2, 1]\n",
      "Vous avez 0 bien placé(s) et 2 mal placé(s)\n",
      "\n",
      "Vos anciennes proposition :\n",
      "[4, 3, 2, 1]\n",
      "\n",
      "Saisissez une proposition : 8765\n",
      "[8, 7, 6, 5]\n",
      "Vous avez 0 bien placé(s) et 2 mal placé(s)\n",
      "\n",
      "Vos anciennes proposition :\n",
      "[4, 3, 2, 1]\n",
      "[8, 7, 6, 5]\n",
      "\n",
      "Saisissez une proposition : 2156\n",
      "[2, 1, 5, 6]\n",
      "Vous avez 0 bien placé(s) et 2 mal placé(s)\n",
      "\n",
      "Vos anciennes proposition :\n",
      "[4, 3, 2, 1]\n",
      "[8, 7, 6, 5]\n",
      "[2, 1, 5, 6]\n",
      "\n",
      "Saisissez une proposition : 3478\n",
      "[3, 4, 7, 8]\n",
      "Vous avez 1 bien placé(s) et 1 mal placé(s)\n",
      "\n",
      "Vos anciennes proposition :\n",
      "[4, 3, 2, 1]\n",
      "[8, 7, 6, 5]\n",
      "[2, 1, 5, 6]\n",
      "[3, 4, 7, 8]\n",
      "\n",
      "Saisissez une proposition : 3581\n",
      "[3, 5, 8, 1]\n",
      "Vous avez 0 bien placé(s) et 2 mal placé(s)\n",
      "\n",
      "Vos anciennes proposition :\n",
      "[4, 3, 2, 1]\n",
      "[8, 7, 6, 5]\n",
      "[2, 1, 5, 6]\n",
      "[3, 4, 7, 8]\n",
      "[3, 5, 8, 1]\n",
      "\n",
      "Saisissez une proposition : 7248\n",
      "[7, 2, 4, 8]\n",
      "Vous avez 2 bien placé(s) et 0 mal placé(s)\n",
      "\n",
      "Vos anciennes proposition :\n",
      "[4, 3, 2, 1]\n",
      "[8, 7, 6, 5]\n",
      "[2, 1, 5, 6]\n",
      "[3, 4, 7, 8]\n",
      "[3, 5, 8, 1]\n",
      "[7, 2, 4, 8]\n",
      "\n",
      "Saisissez une proposition : 1548\n",
      "[1, 5, 4, 8]\n",
      "Vous avez 1 bien placé(s) et 0 mal placé(s)\n",
      "\n",
      "Vos anciennes proposition :\n",
      "[4, 3, 2, 1]\n",
      "[8, 7, 6, 5]\n",
      "[2, 1, 5, 6]\n",
      "[3, 4, 7, 8]\n",
      "[3, 5, 8, 1]\n",
      "[7, 2, 4, 8]\n",
      "[1, 5, 4, 8]\n",
      "\n",
      "Saisissez une proposition : 6238\n",
      "[6, 2, 3, 8]\n",
      "Vous avez 4 bien placé(s) et 0 mal placé(s)\n",
      "\n",
      "Vos anciennes proposition :\n",
      "[4, 3, 2, 1]\n",
      "[8, 7, 6, 5]\n",
      "[2, 1, 5, 6]\n",
      "[3, 4, 7, 8]\n",
      "[3, 5, 8, 1]\n",
      "[7, 2, 4, 8]\n",
      "[1, 5, 4, 8]\n",
      "[6, 2, 3, 8]\n",
      "\n"
     ]
    },
    {
     "data": {
      "text/plain": [
       "'Bravo le code à trouver était bien [6, 2, 3, 8], vous avez réussi en 8 tours'"
      ]
     },
     "execution_count": 4,
     "metadata": {},
     "output_type": "execute_result"
    }
   ],
   "source": [
    "from random import *\n",
    "class MM:\n",
    "    n=[1,2,3,4,5,6,7,8]\n",
    "    def code(n):\n",
    "        c=sample(n*4,4)\n",
    "        return c\n",
    "    def __init__(self):\n",
    "        self.c=MM.code(self.n)\n",
    "        self.h=\"\"\n",
    "    def __str__(self):\n",
    "        code=str(self.c)\n",
    "        return code\n",
    "    def prop(self):\n",
    "        a=True\n",
    "        pl=input(\"Saisissez une proposition : \") \n",
    "        while a==True:\n",
    "            a=False  \n",
    "            p=[]\n",
    "            if len(pl)!=4:\n",
    "                pl=input(\"Veuillez saisir 4 chiffres : \")\n",
    "                a=True\n",
    "            else:\n",
    "                for i in pl:\n",
    "                      p.append(int(i))\n",
    "                for i in p:\n",
    "                    if i<1 or i>8:\n",
    "                        pl=input(\"Veuillez saisir des chiffres compris entre 1 et 8 : \")\n",
    "                        a=True\n",
    "                        break\n",
    "        return p\n",
    "    def bienplace(self,c,p):\n",
    "        bp=0\n",
    "        for i in range(4):\n",
    "            if c[i]==p[i]:\n",
    "                bp+=1\n",
    "        return bp\n",
    "    def malplace(self,c,p):\n",
    "        mp=0\n",
    "        for i in range(4):\n",
    "            if p[i] in c and p[i]!=c[i]:\n",
    "                mp+=1\n",
    "                for j in range(4):\n",
    "                    if p[i]==p[j] and p[j]==c[j] and p.count(p[i])>c.count(p[i]):\n",
    "                        mp-=1\n",
    "                        break\n",
    "        return mp\n",
    "    def jeu(self):\n",
    "        bp=0\n",
    "        t=0\n",
    "        while bp<4:\n",
    "            p=MM.prop(self)\n",
    "            print(p)\n",
    "            bp=MM.bienplace(self,self.c,p)\n",
    "            mp=MM.malplace(self,self.c,p)\n",
    "            print(\"Vous avez \"+str(bp)+\" bien placé(s) et \"+str(mp)+\" mal placé(s)\\n\")\n",
    "            t+=1\n",
    "            self.h=self.h+str(p)+\"\\n\"\n",
    "            print(\"Vos anciennes proposition :\\n\"+self.h)\n",
    "        return (\"Bravo le code à trouver était bien \"+str(self.c)+\", vous avez réussi en \"+str(t)+\" tours\")\n",
    "    \n",
    "a=MM()\n",
    "MM.jeu(a)\n"
   ]
  },
  {
   "cell_type": "code",
   "execution_count": null,
   "metadata": {},
   "outputs": [],
   "source": []
  },
  {
   "cell_type": "code",
   "execution_count": null,
   "metadata": {},
   "outputs": [],
   "source": []
  },
  {
   "cell_type": "code",
   "execution_count": null,
   "metadata": {},
   "outputs": [],
   "source": []
  },
  {
   "cell_type": "code",
   "execution_count": null,
   "metadata": {},
   "outputs": [],
   "source": []
  },
  {
   "cell_type": "code",
   "execution_count": null,
   "metadata": {},
   "outputs": [],
   "source": []
  },
  {
   "cell_type": "code",
   "execution_count": null,
   "metadata": {},
   "outputs": [],
   "source": []
  },
  {
   "cell_type": "code",
   "execution_count": null,
   "metadata": {},
   "outputs": [],
   "source": []
  },
  {
   "cell_type": "code",
   "execution_count": null,
   "metadata": {},
   "outputs": [],
   "source": []
  },
  {
   "cell_type": "code",
   "execution_count": null,
   "metadata": {},
   "outputs": [],
   "source": []
  },
  {
   "cell_type": "code",
   "execution_count": null,
   "metadata": {},
   "outputs": [],
   "source": []
  },
  {
   "cell_type": "code",
   "execution_count": null,
   "metadata": {},
   "outputs": [],
   "source": []
  },
  {
   "cell_type": "code",
   "execution_count": null,
   "metadata": {},
   "outputs": [],
   "source": []
  }
 ],
 "metadata": {
  "kernelspec": {
   "display_name": "Python 3 (ipykernel)",
   "language": "python",
   "name": "python3"
  },
  "language_info": {
   "codemirror_mode": {
    "name": "ipython",
    "version": 3
   },
   "file_extension": ".py",
   "mimetype": "text/x-python",
   "name": "python",
   "nbconvert_exporter": "python",
   "pygments_lexer": "ipython3",
   "version": "3.9.3"
  }
 },
 "nbformat": 4,
 "nbformat_minor": 4
}
